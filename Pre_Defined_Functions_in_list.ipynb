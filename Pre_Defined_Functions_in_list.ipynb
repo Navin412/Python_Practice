{
  "nbformat": 4,
  "nbformat_minor": 0,
  "metadata": {
    "colab": {
      "provenance": [],
      "authorship_tag": "ABX9TyMIHezgjYWBOIOf5l/w6HWv",
      "include_colab_link": true
    },
    "kernelspec": {
      "name": "python3",
      "display_name": "Python 3"
    },
    "language_info": {
      "name": "python"
    }
  },
  "cells": [
    {
      "cell_type": "markdown",
      "metadata": {
        "id": "view-in-github",
        "colab_type": "text"
      },
      "source": [
        "<a href=\"https://colab.research.google.com/github/Navin412/Python_Practice/blob/main/Pre_Defined_Functions_in_list.ipynb\" target=\"_parent\"><img src=\"https://colab.research.google.com/assets/colab-badge.svg\" alt=\"Open In Colab\"/></a>"
      ]
    },
    {
      "cell_type": "markdown",
      "source": [
        "=>On List we can Perform the Following Operations\n",
        "\n",
        "1. By using Indexing, we can get One Value\n",
        "2. By using Slicing, we can get range of values\n",
        "3. By using Indexing, we can Update the Value of List\n",
        "4. By using Slicing, we can get Update range of values of List."
      ],
      "metadata": {
        "id": "J5D5AXnqQ88L"
      }
    },
    {
      "cell_type": "markdown",
      "source": [
        "=>Along with the above Operations, we can Perform Various Operations by using Pre-Defined Functions Present in list object.\n",
        "\n",
        "=>The Pre-Defined  Fucntions of list are"
      ],
      "metadata": {
        "id": "HO8zEuBwRG27"
      }
    },
    {
      "cell_type": "markdown",
      "source": [
        "1.append()\n",
        "\n",
        "=>Syntax:   listobject.append(value)\n",
        "\n",
        "=>This Function is used for adding the value to List Object at the end (Knowan as appending)."
      ],
      "metadata": {
        "id": "e9TA-NCURW1o"
      }
    },
    {
      "cell_type": "code",
      "source": [
        "lst=[10,\"RS\",33.33]\n",
        "print(lst,type(lst),id(lst))\n",
        "lst.append(True)\n",
        "print(lst,type(lst),id(lst))\n",
        "lst.append(\"NL\")\n",
        "print(lst,type(lst),id(lst))"
      ],
      "metadata": {
        "colab": {
          "base_uri": "https://localhost:8080/"
        },
        "id": "jiZYqLprRlQq",
        "outputId": "62833f68-a2b5-401d-aa13-3758d8e75ede"
      },
      "execution_count": null,
      "outputs": [
        {
          "output_type": "stream",
          "name": "stdout",
          "text": [
            "[10, 'RS', 33.33] <class 'list'> 135862866307392\n",
            "[10, 'RS', 33.33, True] <class 'list'> 135862866307392\n",
            "[10, 'RS', 33.33, True, 'NL'] <class 'list'> 135862866307392\n"
          ]
        }
      ]
    },
    {
      "cell_type": "code",
      "source": [
        "lst=list()\n",
        "print(lst,type(lst),id(lst))\n",
        "lst.append(10)\n",
        "print(lst,type(lst),id(lst))\n",
        "lst.append(20.09)\n",
        "print(lst,type(lst),id(lst))\n",
        "lst.append(True)\n",
        "print(lst,type(lst),id(lst))"
      ],
      "metadata": {
        "colab": {
          "base_uri": "https://localhost:8080/"
        },
        "id": "ClqmVKLLWJLu",
        "outputId": "fba57351-2993-4dd3-9596-9c79fe937a80"
      },
      "execution_count": null,
      "outputs": [
        {
          "output_type": "stream",
          "name": "stdout",
          "text": [
            "[] <class 'list'> 135862866331584\n",
            "[10] <class 'list'> 135862866331584\n",
            "[10, 20.09] <class 'list'> 135862866331584\n",
            "[10, 20.09, True] <class 'list'> 135862866331584\n"
          ]
        }
      ]
    },
    {
      "cell_type": "markdown",
      "source": [
        "\n",
        "2. insert()\n",
        "-------------------------------------------------------------------------------------------------------------------------------------------------------\n",
        "=>Syntax:   listobject.insert(index,Value)\n",
        "=>This Function is used for Adding the Value at the Specified Index"
      ],
      "metadata": {
        "id": "RUqx0JrNW1yi"
      }
    },
    {
      "cell_type": "code",
      "source": [
        "# Examples\n",
        "lst=[10,\"RS\",33.33]\n",
        "print(lst,type(lst),id(lst))\n",
        "lst.insert(1,\"NL\")\n",
        "print(lst,type(lst),id(lst))\n",
        "lst.insert(0,2+3j)\n",
        "print(lst,type(lst),id(lst))\n",
        "lst=[10,\"RS\",33.33]\n",
        "print(lst,type(lst),id(lst))\n",
        "lst.insert(-1,\"NL\")\n",
        "print(lst,type(lst),id(lst))"
      ],
      "metadata": {
        "colab": {
          "base_uri": "https://localhost:8080/"
        },
        "id": "liwye4eif32c",
        "outputId": "643e132b-88ce-4485-fdce-71af4432c3ae"
      },
      "execution_count": null,
      "outputs": [
        {
          "output_type": "stream",
          "name": "stdout",
          "text": [
            "[10, 'RS', 33.33] <class 'list'> 135862866322304\n",
            "[10, 'NL', 'RS', 33.33] <class 'list'> 135862866322304\n",
            "[(2+3j), 10, 'NL', 'RS', 33.33] <class 'list'> 135862866322304\n",
            "[10, 'RS', 33.33] <class 'list'> 135862866306240\n",
            "[10, 'RS', 'NL', 33.33] <class 'list'> 135862866306240\n"
          ]
        }
      ]
    },
    {
      "cell_type": "markdown",
      "source": [
        "3.remove()-------Based on  Value\n",
        "\n",
        "=>Syntax:      ListObj.remove(Value)\n",
        "\n",
        "=>This Function is used for Removing the First Occurence of the Specified Value.\n",
        "\n",
        "=>If the Specified Value does not Exist in List Object then we get ValueError"
      ],
      "metadata": {
        "id": "MVvk57aIwcdU"
      }
    },
    {
      "cell_type": "code",
      "source": [
        "lst=[10,20,30,40,50,60,10,20,30]\n",
        "print(lst,id(lst))\n",
        "lst.remove(10)\n",
        "print(lst,id(lst))\n",
        "lst.remove(20)\n",
        "print(lst,id(lst))\n",
        "lst.remove(20)\n",
        "print(lst,id(lst))\n",
        "# lst.remove(20) ----------------------ValueError: list.remove(x): x not in list\n",
        "#[].remove(10)----------------------ValueError: list.remove(x): x not in list\n",
        "#list().remove(10)------------------ValueError: list.remove(x): x not in list"
      ],
      "metadata": {
        "colab": {
          "base_uri": "https://localhost:8080/"
        },
        "id": "a2uhPeI18q5U",
        "outputId": "6e465160-1ccf-45d7-9a74-c5b1997c8af0"
      },
      "execution_count": null,
      "outputs": [
        {
          "output_type": "stream",
          "name": "stdout",
          "text": [
            "[10, 20, 30, 40, 50, 60, 10, 20, 30] 138938057775168\n",
            "[20, 30, 40, 50, 60, 10, 20, 30] 138938057775168\n",
            "[30, 40, 50, 60, 10, 20, 30] 138938057775168\n",
            "[30, 40, 50, 60, 10, 30] 138938057775168\n"
          ]
        }
      ]
    },
    {
      "cell_type": "markdown",
      "source": [
        "4.pop(index)--Based Index\n",
        "-------------------------------------------------------------------------------------------------------------------------------------------------------\n",
        "Syntax:   listobj.pop(index)\n",
        "\n",
        "=>This Function removes the value from List object based on Index and It can be either +Ve OR -VE.\n",
        "\n",
        "=>If the Value of Index is Invalid then we get IndexError."
      ],
      "metadata": {
        "id": "l5n2gVqj-txW"
      }
    },
    {
      "cell_type": "code",
      "source": [
        "# Examples\n",
        "lst=[10,20,30,40,10,20,30,40]\n",
        "print(lst,id(lst))\n",
        "lst.pop(-1)\n",
        "print(lst,id(lst))\n",
        "lst.pop(3)\n",
        "print(lst,id(lst))\n",
        "lst.pop(-2)\n",
        "print(lst,id(lst))\n",
        "#lst.pop(10)----------------------IndexError: pop index out of range\n",
        "#[].pop(0)-------------------------IndexError: pop from empty list\n",
        "#list().pop(-1)--------------------IndexError: pop from empty list"
      ],
      "metadata": {
        "colab": {
          "base_uri": "https://localhost:8080/"
        },
        "id": "RJz0nHJs-ddX",
        "outputId": "5d7bafe4-cc88-4152-e9ff-a03ed1ec656c"
      },
      "execution_count": null,
      "outputs": [
        {
          "output_type": "stream",
          "name": "stdout",
          "text": [
            "[10, 20, 30, 40, 10, 20, 30, 40] 138938058093184\n",
            "[10, 20, 30, 40, 10, 20, 30] 138938058093184\n",
            "[10, 20, 30, 10, 20, 30] 138938058093184\n",
            "[10, 20, 30, 10, 30] 138938058093184\n"
          ]
        }
      ]
    },
    {
      "cell_type": "markdown",
      "source": [
        "5. pop()\n",
        "-------------------------------------------------------------------------------------------------------------------------------------------------------\n",
        "Syntax:   listobj.pop()\n",
        "=>This function is used for Removing the Last Element from List Object.\n",
        "\n",
        "=>When we call this function on empty list object then we get IndexError."
      ],
      "metadata": {
        "id": "x1SujBUQI_9u"
      }
    },
    {
      "cell_type": "code",
      "source": [
        "# Examples\n",
        "lst=[10,20,30,40,\"Python\",True,2+3j]\n",
        "print(lst,id(lst))\n",
        "lst.pop()\n",
        "print(lst,id(lst))\n",
        "lst.pop()\n",
        "print(lst,id(lst))\n",
        "lst.pop()\n",
        "print(lst,id(lst))\n",
        "\n",
        "#[].pop()---------------------------------IndexError: pop from empty list\n",
        "#list().pop()------------------------------IndexError: pop from empty list"
      ],
      "metadata": {
        "colab": {
          "base_uri": "https://localhost:8080/"
        },
        "id": "OAxYytALMaP1",
        "outputId": "668b358a-d818-42d3-8d48-b1a4c33d5880"
      },
      "execution_count": null,
      "outputs": [
        {
          "output_type": "stream",
          "name": "stdout",
          "text": [
            "[10, 20, 30, 40, 'Python', True, (2+3j)] 138938048590592\n",
            "[10, 20, 30, 40, 'Python', True] 138938048590592\n",
            "[10, 20, 30, 40, 'Python'] 138938048590592\n",
            "[10, 20, 30, 40] 138938048590592\n"
          ]
        }
      ]
    },
    {
      "cell_type": "markdown",
      "source": [
        "6. clear()\n",
        "------------------------------------------------------------------------------------------------------------------------------------------------------\n",
        "=>Syntax:  listobj.clear()\n",
        "\n",
        "=>This Function removes all the Elements from List Object."
      ],
      "metadata": {
        "id": "4tIGw-3uNcpO"
      }
    },
    {
      "cell_type": "code",
      "source": [
        "# Examples\n",
        "lst=[10,20,30,40,\"Python\",True,2+3j]\n",
        "print(lst,id(lst))\n",
        "print(len(lst))\n",
        "lst.clear()\n",
        "print(lst,id(lst))\n",
        "print(len(lst))\n",
        "print([].clear())\n",
        "[].clear()\n",
        "print(list().clear())"
      ],
      "metadata": {
        "colab": {
          "base_uri": "https://localhost:8080/"
        },
        "id": "xszwZccXNho3",
        "outputId": "67d8d167-c415-4ed6-8b50-0679fa554e81"
      },
      "execution_count": null,
      "outputs": [
        {
          "output_type": "stream",
          "name": "stdout",
          "text": [
            "[10, 20, 30, 40, 'Python', True, (2+3j)] 138938059329472\n",
            "7\n",
            "[] 138938059329472\n",
            "0\n",
            "None\n",
            "None\n"
          ]
        }
      ]
    },
    {
      "cell_type": "markdown",
      "source": [
        " del operator\n",
        "**********************************************\n",
        "Syntax-1:    del  MutableObject[Index]-------Index Based Removal\n",
        "\n",
        "Syntax-2:    del  MutableObject[Begin:End:Step]----Slice Based Removal\n",
        "\n",
        "Syntax-3:    del  ImmutableMutableObject ---------Deleting Element(s) + Deletes Physical Memory Space.\n",
        "**********************************************\n",
        "------------------------------------"
      ],
      "metadata": {
        "id": "FHamYVMCPeik"
      }
    },
    {
      "cell_type": "code",
      "source": [
        "# Examples:\n",
        "lst=[10,20,30,40]\n",
        "print(lst,type(lst), id(lst))\n",
        "del  lst[2]\n",
        "print(lst,type(lst), id(lst))\n",
        "del lst[-1]\n",
        "print(lst,type(lst), id(lst))\n",
        "del lst[0]\n",
        "print(lst,type(lst), id(lst))"
      ],
      "metadata": {
        "colab": {
          "base_uri": "https://localhost:8080/"
        },
        "id": "FI6G1GyKPBh5",
        "outputId": "818db363-ddd7-4e90-d265-78902d8f77d1"
      },
      "execution_count": null,
      "outputs": [
        {
          "output_type": "stream",
          "name": "stdout",
          "text": [
            "[10, 20, 30, 40] <class 'list'> 138938059704704\n",
            "[10, 20, 40] <class 'list'> 138938059704704\n",
            "[10, 20] <class 'list'> 138938059704704\n",
            "[20] <class 'list'> 138938059704704\n"
          ]
        }
      ]
    },
    {
      "cell_type": "code",
      "source": [
        "lst=[10,20,30,40,50,60,70,80]\n",
        "print(lst,type(lst), id(lst))\n",
        "del lst[3:6]\n",
        "print(lst,type(lst), id(lst))\n",
        "del lst[::2]\n",
        "print(lst,type(lst), id(lst))"
      ],
      "metadata": {
        "colab": {
          "base_uri": "https://localhost:8080/"
        },
        "id": "v5ZRnv-eQ6nZ",
        "outputId": "a7a65c06-31a4-4be8-f0d7-2064b654a263"
      },
      "execution_count": null,
      "outputs": [
        {
          "output_type": "stream",
          "name": "stdout",
          "text": [
            "[10, 20, 30, 40, 50, 60, 70, 80] <class 'list'> 138938048588032\n",
            "[10, 20, 30, 70, 80] <class 'list'> 138938048588032\n",
            "[20, 70] <class 'list'> 138938048588032\n"
          ]
        }
      ]
    },
    {
      "cell_type": "code",
      "source": [
        "lst=[10,20,30,40,50,60,70,80]\n",
        "print(lst,type(lst), id(lst))\n",
        "del lst\n",
        "#print(lst,type(lst), id(lst))------------NameError: name 'lst' is not defined."
      ],
      "metadata": {
        "colab": {
          "base_uri": "https://localhost:8080/"
        },
        "id": "mQL_mL1bSkYn",
        "outputId": "27f02838-8020-4a14-a5d3-75715a802d76"
      },
      "execution_count": null,
      "outputs": [
        {
          "output_type": "stream",
          "name": "stdout",
          "text": [
            "[10, 20, 30, 40, 50, 60, 70, 80] <class 'list'> 138938048592576\n"
          ]
        }
      ]
    },
    {
      "cell_type": "code",
      "source": [
        "#del operator w.r.t Immutable object 'str'\n",
        "s=\"PYTHON\"\n",
        "#del s[0]-----------------------TypeError: 'str' object doesn't support item deletion\n",
        "#del s[0:4]---------------------TypeError: 'str' object does not support item deletion\n",
        "del s"
      ],
      "metadata": {
        "id": "hraU3qdyTUka"
      },
      "execution_count": null,
      "outputs": []
    },
    {
      "cell_type": "markdown",
      "source": [
        "7. index()\n",
        "-----------------------------------------------------------------------------------------------------------------------------------------------------\n",
        "Syntax: listobj.index(Value)\n",
        "\n",
        "=>This function gives Index of First Occurence of Specified Value of List\n",
        "\n",
        "=>If the Specified Value does not Exist then  we get ValueError."
      ],
      "metadata": {
        "id": "ghDhCIRIVF0E"
      }
    },
    {
      "cell_type": "code",
      "source": [
        "# Examples\n",
        "lst=[10,20,30,40,10,30,10,20]\n",
        "print(lst)\n",
        "print(lst.index(10))\n",
        "lst.index(20)\n",
        "#lst.index(200)-------------ValueError: 200 is not in list"
      ],
      "metadata": {
        "colab": {
          "base_uri": "https://localhost:8080/"
        },
        "id": "71O2pE2NVNE2",
        "outputId": "142daf3a-f940-48c3-f800-417bcfca1958"
      },
      "execution_count": null,
      "outputs": [
        {
          "output_type": "stream",
          "name": "stdout",
          "text": [
            "[10, 20, 30, 40, 10, 30, 10, 20]\n",
            "0\n"
          ]
        },
        {
          "output_type": "execute_result",
          "data": {
            "text/plain": [
              "1"
            ]
          },
          "metadata": {},
          "execution_count": 24
        }
      ]
    },
    {
      "cell_type": "markdown",
      "source": [
        "enumerate()\n",
        "*********************************************************\n",
        "Syntax:  for index,value in enumerate(Iterbale-Object):\n",
        "\t\t\t  print(index,\"--->\",value)"
      ],
      "metadata": {
        "id": "18nLrETmWczf"
      }
    },
    {
      "cell_type": "code",
      "source": [
        "#Examples\n",
        "lst=[10,20,30,10,20,30,10,20]\n",
        "print(lst)\n",
        "for index,value in enumerate(lst):\n",
        "  print(index,\"--->\",value)"
      ],
      "metadata": {
        "colab": {
          "base_uri": "https://localhost:8080/"
        },
        "id": "2qGamC-0WlrS",
        "outputId": "2688bc3f-bdff-4622-f94a-5ae86ca3e82c"
      },
      "execution_count": null,
      "outputs": [
        {
          "output_type": "stream",
          "name": "stdout",
          "text": [
            "[10, 20, 30, 10, 20, 30, 10, 20]\n",
            "0 ---> 10\n",
            "1 ---> 20\n",
            "2 ---> 30\n",
            "3 ---> 10\n",
            "4 ---> 20\n",
            "5 ---> 30\n",
            "6 ---> 10\n",
            "7 ---> 20\n"
          ]
        }
      ]
    },
    {
      "cell_type": "code",
      "source": [
        "for index,value in enumerate(lst):\n",
        "  if(value==10):\n",
        "    print(index,\"--->\",value)\n",
        "print('########')\n",
        "for index,value in enumerate(lst):\n",
        "  if(value==20):\n",
        "    print(index,\"--->\",value)\n",
        "print('########')\n",
        "for index,value in enumerate(lst):\n",
        "  if(value==30):\n",
        "    print(index,\"--->\",value)\n"
      ],
      "metadata": {
        "colab": {
          "base_uri": "https://localhost:8080/"
        },
        "id": "XsdvH-TwXSSw",
        "outputId": "25749146-132f-480e-de02-35d6059a1b33"
      },
      "execution_count": null,
      "outputs": [
        {
          "output_type": "stream",
          "name": "stdout",
          "text": [
            "0 ---> 10\n",
            "3 ---> 10\n",
            "6 ---> 10\n",
            "########\n",
            "1 ---> 20\n",
            "4 ---> 20\n",
            "7 ---> 20\n",
            "########\n",
            "2 ---> 30\n",
            "5 ---> 30\n"
          ]
        }
      ]
    },
    {
      "cell_type": "code",
      "source": [
        "for ind,val in enumerate(\"PYTHON\"):\n",
        "  print(ind,\"-->\",val)\n",
        "print('########')\n",
        "for ind,val in enumerate(\"MISSISSIPPI\"):\n",
        "  print(ind,\"-->\",val)"
      ],
      "metadata": {
        "colab": {
          "base_uri": "https://localhost:8080/"
        },
        "id": "uAf-WU_IYAbJ",
        "outputId": "61502029-fdad-4880-8df5-b323c51c33f2"
      },
      "execution_count": null,
      "outputs": [
        {
          "output_type": "stream",
          "name": "stdout",
          "text": [
            "0 --> P\n",
            "1 --> Y\n",
            "2 --> T\n",
            "3 --> H\n",
            "4 --> O\n",
            "5 --> N\n",
            "########\n",
            "0 --> M\n",
            "1 --> I\n",
            "2 --> S\n",
            "3 --> S\n",
            "4 --> I\n",
            "5 --> S\n",
            "6 --> S\n",
            "7 --> I\n",
            "8 --> P\n",
            "9 --> P\n",
            "10 --> I\n"
          ]
        }
      ]
    },
    {
      "cell_type": "code",
      "source": [
        "for ind,val in enumerate(\"MISSISSIPPI\"):\n",
        "  if(val==\"I\"):\n",
        "    print(ind,\"-->\",val)\n",
        "print('########')\n",
        "for ind,val in enumerate(\"MISSISSIPPI\"):\n",
        "  if(val==\"S\"):\n",
        "    print(ind,\"-->\",val)"
      ],
      "metadata": {
        "colab": {
          "base_uri": "https://localhost:8080/"
        },
        "id": "xr1JJaDrZ4XM",
        "outputId": "fadca793-0458-46f5-d4ab-ec47db2447f3"
      },
      "execution_count": null,
      "outputs": [
        {
          "output_type": "stream",
          "name": "stdout",
          "text": [
            "1 --> I\n",
            "4 --> I\n",
            "7 --> I\n",
            "10 --> I\n",
            "########\n",
            "2 --> S\n",
            "3 --> S\n",
            "5 --> S\n",
            "6 --> S\n"
          ]
        }
      ]
    },
    {
      "cell_type": "markdown",
      "source": [
        "8. count()\n",
        "-----------------------------------------------------------------------------------------------------------------------------------------------------\n",
        "Syntax:    listobj.count(Value)\n",
        "\n",
        "=>This function is used for Counting Number of Occurences of Specified Value.\n",
        "\n",
        "=>if Specified Value does not exist in list object then we get 0 as result."
      ],
      "metadata": {
        "id": "i-4CgvcifHuQ"
      }
    },
    {
      "cell_type": "code",
      "source": [
        "# Examples\n",
        "lst=[10,20,30,10,10,30,40,20,10]\n",
        "print(lst)\n",
        "lst.count(10)\n",
        "lst.count(20)\n",
        "lst.count(30)\n",
        "print(lst.count(40))\n",
        "print(lst.count(50))\n",
        "list(\"121314567\").count(1)\n",
        "list(\"121314567\").count('1')"
      ],
      "metadata": {
        "colab": {
          "base_uri": "https://localhost:8080/"
        },
        "id": "UQ__cRk7fK9o",
        "outputId": "1a5b5b9e-f656-4e59-b25d-d8b220fa194a"
      },
      "execution_count": null,
      "outputs": [
        {
          "output_type": "stream",
          "name": "stdout",
          "text": [
            "[10, 20, 30, 10, 10, 30, 40, 20, 10]\n",
            "1\n",
            "0\n"
          ]
        },
        {
          "output_type": "execute_result",
          "data": {
            "text/plain": [
              "3"
            ]
          },
          "metadata": {},
          "execution_count": 38
        }
      ]
    },
    {
      "cell_type": "code",
      "source": [
        "print(list([\"MISSISSIPPI\"]).count(\"I\"))\n",
        "print(list([\"MISSISSIPPI\"]))\n",
        "print(list([\"MISSISSIPPI\"])[0].count(\"I\"))\n",
        "print(list(\"MISSISSIPPI\").count(\"I\"))"
      ],
      "metadata": {
        "colab": {
          "base_uri": "https://localhost:8080/"
        },
        "id": "w6CatDmWhdw6",
        "outputId": "0d20e965-6b99-4bd5-ddfc-beb07a1af493"
      },
      "execution_count": null,
      "outputs": [
        {
          "output_type": "stream",
          "name": "stdout",
          "text": [
            "0\n",
            "['MISSISSIPPI']\n",
            "4\n",
            "4\n"
          ]
        }
      ]
    },
    {
      "cell_type": "markdown",
      "source": [
        "9. copy()\n",
        "-----------------------------------------------------------------------------------------------------------------------------------------------------\n",
        "=>Syntax:     ListObj2=ListObj1.copy()\n",
        "\n",
        "=>This Function is used for Copying the content of One ListObj1 into aonther ListObj2 (Implements Shallow Copy)."
      ],
      "metadata": {
        "id": "CcjGYpnwikr3"
      }
    },
    {
      "cell_type": "code",
      "source": [
        "# Examples\n",
        "lst1=[10,\"Rossum\",23.45]\n",
        "print(lst1,id(lst1))\n",
        "lst2=lst1.copy()  # Shallow Copy\n",
        "print(lst2,id(lst2))\n",
        "lst1.append(\"NL\")\n",
        "lst2.insert(1,\"HYD\")\n",
        "print(lst1,id(lst1))\n",
        "print(lst2,id(lst2))"
      ],
      "metadata": {
        "colab": {
          "base_uri": "https://localhost:8080/"
        },
        "id": "Oe_cWni4itbh",
        "outputId": "951bd2c6-8382-48b4-c97a-6735de73db16"
      },
      "execution_count": null,
      "outputs": [
        {
          "output_type": "stream",
          "name": "stdout",
          "text": [
            "[10, 'Rossum', 23.45] 138937246215168\n",
            "[10, 'Rossum', 23.45] 138937246208640\n",
            "[10, 'Rossum', 23.45, 'NL'] 138937246215168\n",
            "[10, 'HYD', 'Rossum', 23.45] 138937246208640\n"
          ]
        }
      ]
    },
    {
      "cell_type": "code",
      "source": [
        "# Deep Copy\n",
        "lst1=[10,\"Rossum\",23.45]\n",
        "print(lst1,id(lst1))\n",
        "lst2=lst1 # Deep Copy\n",
        "print(lst2,id(lst2))\n",
        "lst1.append(\"NL\")\n",
        "print(lst1,id(lst1))\n",
        "print(lst2,id(lst2))\n",
        "lst2.insert(0,\"HYD\")\n",
        "print(lst1,id(lst1))\n",
        "print(lst2,id(lst2))"
      ],
      "metadata": {
        "colab": {
          "base_uri": "https://localhost:8080/"
        },
        "id": "aldWtsNvkPzI",
        "outputId": "af61baea-c050-4634-ae90-7080e39e2abf"
      },
      "execution_count": null,
      "outputs": [
        {
          "output_type": "stream",
          "name": "stdout",
          "text": [
            "[10, 'Rossum', 23.45] 138937633227584\n",
            "[10, 'Rossum', 23.45] 138937633227584\n",
            "[10, 'Rossum', 23.45, 'NL'] 138937633227584\n",
            "[10, 'Rossum', 23.45, 'NL'] 138937633227584\n",
            "['HYD', 10, 'Rossum', 23.45, 'NL'] 138937633227584\n",
            "['HYD', 10, 'Rossum', 23.45, 'NL'] 138937633227584\n"
          ]
        }
      ]
    },
    {
      "cell_type": "markdown",
      "source": [
        "10. reverse()\n",
        "-----------------------------------------------------------------------------------------------------------------------------------------------------\n",
        "Syntax:    ListObj.reverse()\n",
        "\n",
        "=>This Function is used for Reversing the Elememts of List ( Nothing But Front goes to back and Vice-Versa)"
      ],
      "metadata": {
        "id": "qZZkfA1_Rzcj"
      }
    },
    {
      "cell_type": "code",
      "source": [
        "# Examples\n",
        "lst1=[10,20,12,\"Python\",True,2+3j]\n",
        "print(lst1,id(lst1))\n",
        "lst2=lst1.reverse()\n",
        "print(lst2)\n",
        "print(lst1,id(lst1))"
      ],
      "metadata": {
        "colab": {
          "base_uri": "https://localhost:8080/"
        },
        "id": "Z8ROmPxNR8aN",
        "outputId": "4ea7e7a2-8ad8-413e-8082-3673dc189118"
      },
      "execution_count": 3,
      "outputs": [
        {
          "output_type": "stream",
          "name": "stdout",
          "text": [
            "[10, 20, 12, 'Python', True, (2+3j)] 136073627970176\n",
            "None\n",
            "[(2+3j), True, 'Python', 12, 20, 10] 136073627970176\n"
          ]
        }
      ]
    },
    {
      "cell_type": "code",
      "source": [
        "lst=[1,3,6,-1,0,11]\n",
        "print(lst,id(lst))\n",
        "lst.reverse()\n",
        "print(lst,id(lst))"
      ],
      "metadata": {
        "colab": {
          "base_uri": "https://localhost:8080/"
        },
        "id": "urrDf1pVdDsc",
        "outputId": "5de91507-84e7-4a52-a6b1-d96b9c036db0"
      },
      "execution_count": 4,
      "outputs": [
        {
          "output_type": "stream",
          "name": "stdout",
          "text": [
            "[1, 3, 6, -1, 0, 11] 136073627970624\n",
            "[11, 0, -1, 6, 3, 1] 136073627970624\n"
          ]
        }
      ]
    },
    {
      "cell_type": "markdown",
      "source": [
        "11. sort() --Most Imp\n",
        "-----------------------------------------------------------------------------------------------------------------------------------------------------\n",
        "Syntax-1:   ListObj.sort()---------------------------->Used for Sorting the List Similar Type of data in Ascending order\n",
        "\n",
        "Syntax-2:   ListObj.sort(reverser=False)-------->Used for Sorting the List Similar Type of data in Ascending order\n",
        "\n",
        "Syntax-3:   ListObj.sort(reverser=True)-------->Used for Sorting the List Similar Type of data in Decending order\n"
      ],
      "metadata": {
        "id": "lDlNujc2e_v1"
      }
    },
    {
      "cell_type": "code",
      "source": [
        "lst1=[10,4,15,6,11,22,12,-2]\n",
        "print(lst1,id(lst1))\n",
        "lst1.sort()\n",
        "print(lst1,id(lst1))\n",
        "lst1.reverse()\n",
        "print(lst1,id(lst1))\n",
        "lst1.sort(reverse=True)\n",
        "print(lst1,id(lst1))"
      ],
      "metadata": {
        "colab": {
          "base_uri": "https://localhost:8080/"
        },
        "id": "gEfpnMUHfKLh",
        "outputId": "65b73551-1d11-4598-ec06-879318a43350"
      },
      "execution_count": 7,
      "outputs": [
        {
          "output_type": "stream",
          "name": "stdout",
          "text": [
            "[10, 4, 15, 6, 11, 22, 12, -2] 136073627970048\n",
            "[-2, 4, 6, 10, 11, 12, 15, 22] 136073627970048\n",
            "[22, 15, 12, 11, 10, 6, 4, -2] 136073627970048\n",
            "[22, 15, 12, 11, 10, 6, 4, -2] 136073627970048\n"
          ]
        }
      ]
    },
    {
      "cell_type": "code",
      "source": [
        "lst1=[10,4,15,6,11,22,12,-2]\n",
        "print(lst1,id(lst1))\n",
        "lst1.sort(reverse=False)\n",
        "print(lst1,id(lst1))\n",
        "lst1.sort(reverse=True)\n",
        "print(lst1,id(lst1))"
      ],
      "metadata": {
        "colab": {
          "base_uri": "https://localhost:8080/"
        },
        "id": "numvkybEiYok",
        "outputId": "11de6dee-38e9-4ee5-bd64-e3e6048f1d44"
      },
      "execution_count": 9,
      "outputs": [
        {
          "output_type": "stream",
          "name": "stdout",
          "text": [
            "[10, 4, 15, 6, 11, 22, 12, -2] 136073628163520\n",
            "[-2, 4, 6, 10, 11, 12, 15, 22] 136073628163520\n",
            "[22, 15, 12, 11, 10, 6, 4, -2] 136073628163520\n"
          ]
        }
      ]
    },
    {
      "cell_type": "code",
      "source": [
        " lst1=[10,\"RS\",True,2.3,2+4.5j]\n",
        " # lst1.sort() -- TypeError: '<' not supported between instances of 'str' and 'int'"
      ],
      "metadata": {
        "colab": {
          "base_uri": "https://localhost:8080/",
          "height": 161
        },
        "id": "PMcyMkZzi4HF",
        "outputId": "9b31359d-78a4-4b94-a419-e7ab740b099f"
      },
      "execution_count": 10,
      "outputs": [
        {
          "output_type": "error",
          "ename": "TypeError",
          "evalue": "'<' not supported between instances of 'str' and 'int'",
          "traceback": [
            "\u001b[0;31m---------------------------------------------------------------------------\u001b[0m",
            "\u001b[0;31mTypeError\u001b[0m                                 Traceback (most recent call last)",
            "\u001b[0;32m<ipython-input-10-2a03ded2b1e5>\u001b[0m in \u001b[0;36m<cell line: 0>\u001b[0;34m()\u001b[0m\n\u001b[1;32m      1\u001b[0m \u001b[0mlst1\u001b[0m\u001b[0;34m=\u001b[0m\u001b[0;34m[\u001b[0m\u001b[0;36m10\u001b[0m\u001b[0;34m,\u001b[0m\u001b[0;34m\"RS\"\u001b[0m\u001b[0;34m,\u001b[0m\u001b[0;32mTrue\u001b[0m\u001b[0;34m,\u001b[0m\u001b[0;36m2.3\u001b[0m\u001b[0;34m,\u001b[0m\u001b[0;36m2\u001b[0m\u001b[0;34m+\u001b[0m\u001b[0;36m4.5j\u001b[0m\u001b[0;34m]\u001b[0m\u001b[0;34m\u001b[0m\u001b[0;34m\u001b[0m\u001b[0m\n\u001b[0;32m----> 2\u001b[0;31m \u001b[0mlst1\u001b[0m\u001b[0;34m.\u001b[0m\u001b[0msort\u001b[0m\u001b[0;34m(\u001b[0m\u001b[0;34m)\u001b[0m\u001b[0;34m\u001b[0m\u001b[0;34m\u001b[0m\u001b[0m\n\u001b[0m",
            "\u001b[0;31mTypeError\u001b[0m: '<' not supported between instances of 'str' and 'int'"
          ]
        }
      ]
    },
    {
      "cell_type": "code",
      "source": [
        "lst1=[\"Rossum\",\"Hunter\",\"Michel\",\"Kinney\",\"Trump\",\"Dennis\"]\n",
        "print(lst1,id(lst1))\n",
        "lst1.sort()\n",
        "print(lst1,id(lst1))"
      ],
      "metadata": {
        "colab": {
          "base_uri": "https://localhost:8080/"
        },
        "id": "GU4YK8pyjQEt",
        "outputId": "684f1654-f865-4afd-fbf3-f2ddbe00b60d"
      },
      "execution_count": 11,
      "outputs": [
        {
          "output_type": "stream",
          "name": "stdout",
          "text": [
            "['Rossum', 'Hunter', 'Michel', 'Kinney', 'Trump', 'Dennis'] 136072741085888\n",
            "['Dennis', 'Hunter', 'Kinney', 'Michel', 'Rossum', 'Trump'] 136072741085888\n"
          ]
        }
      ]
    },
    {
      "cell_type": "markdown",
      "source": [
        "12. extend()\n",
        "\n",
        "Syntax: ListObj1.extend(ListObj2)\n",
        "\n",
        "=>This Function is used for Merging Multiple List Object(s) into single list object.\n",
        "\n",
        "Programatically:   listobj1.extend(listobj2,listobj3,....listobj-n)----TypeError\n",
        "To avoid the above\n",
        "\n",
        "\t\t\t\tlistobj1.extend(listobj2)\n",
        "\t\t\t\tlistobj1.extend(listobj3)\n",
        "        -----------------------------\n",
        "\t\t\t\tlistobj1.extend(listobj-n)\n",
        "\t\t\t\t\t\tOR\n",
        "\t\t\t\tlistobj1=listobj2+listobj3+....+listobj-n\n"
      ],
      "metadata": {
        "id": "VNWgd-JfklSQ"
      }
    },
    {
      "cell_type": "code",
      "source": [
        "# Examples\n",
        "lst1=[10,20,30]\n",
        "lst2=['RS','TR','DR']\n",
        "print(lst1,id(lst1))\n",
        "print(lst2,id(lst2))\n",
        "lst1.extend(lst2)\n",
        "print(lst1,id(lst1))\n",
        "print(lst2,id(lst2))\n",
        "lst2.extend(lst1)\n",
        "print(lst2,id(lst2))"
      ],
      "metadata": {
        "colab": {
          "base_uri": "https://localhost:8080/"
        },
        "id": "sQgNwLB0lE0X",
        "outputId": "5268215d-3c0b-4da5-b85d-1605e634bcc0"
      },
      "execution_count": 13,
      "outputs": [
        {
          "output_type": "stream",
          "name": "stdout",
          "text": [
            "[10, 20, 30] 136072741088000\n",
            "['RS', 'TR', 'DR'] 136072741225536\n",
            "[10, 20, 30, 'RS', 'TR', 'DR'] 136072741088000\n",
            "['RS', 'TR', 'DR'] 136072741225536\n",
            "['RS', 'TR', 'DR', 10, 20, 30, 'RS', 'TR', 'DR'] 136072741225536\n"
          ]
        }
      ]
    },
    {
      "cell_type": "code",
      "source": [
        "lst1=[10,20,30]\n",
        "lst2=['RS','TR','DR']\n",
        "lst3=[1.2,3.4,5.6,7.8]\n",
        "# lst1.extend(lst2,lst3) # TypeError: list.extend() takes exactly one argument (2 given)\n",
        "lst1.extend(lst2)\n",
        "lst1.extend(lst3)\n",
        "print(lst1)\n",
        "\n",
        "# Merging Multiple List Elements in single list by using + Operator\n",
        "print(lst1,id(lst1))\n",
        "lst1=lst1+lst2+lst3\n",
        "print(lst1,id(lst1))"
      ],
      "metadata": {
        "colab": {
          "base_uri": "https://localhost:8080/"
        },
        "id": "aR-hoOiTlZ9a",
        "outputId": "32fe6a3f-6b76-43eb-fab3-b6590d6b673f"
      },
      "execution_count": 15,
      "outputs": [
        {
          "output_type": "stream",
          "name": "stdout",
          "text": [
            "[10, 20, 30, 'RS', 'TR', 'DR', 1.2, 3.4, 5.6, 7.8]\n",
            "[10, 20, 30, 'RS', 'TR', 'DR', 1.2, 3.4, 5.6, 7.8] 136072741089856\n",
            "[10, 20, 30, 'RS', 'TR', 'DR', 1.2, 3.4, 5.6, 7.8, 'RS', 'TR', 'DR', 1.2, 3.4, 5.6, 7.8] 136073638673600\n"
          ]
        }
      ]
    }
  ]
}