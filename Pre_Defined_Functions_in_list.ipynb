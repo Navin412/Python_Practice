{
  "nbformat": 4,
  "nbformat_minor": 0,
  "metadata": {
    "colab": {
      "provenance": [],
      "authorship_tag": "ABX9TyNkZoRf1ZR9f07lPtwwiWlU",
      "include_colab_link": true
    },
    "kernelspec": {
      "name": "python3",
      "display_name": "Python 3"
    },
    "language_info": {
      "name": "python"
    }
  },
  "cells": [
    {
      "cell_type": "markdown",
      "metadata": {
        "id": "view-in-github",
        "colab_type": "text"
      },
      "source": [
        "<a href=\"https://colab.research.google.com/github/Navin412/Python_Practice/blob/main/Pre_Defined_Functions_in_list.ipynb\" target=\"_parent\"><img src=\"https://colab.research.google.com/assets/colab-badge.svg\" alt=\"Open In Colab\"/></a>"
      ]
    },
    {
      "cell_type": "markdown",
      "source": [
        "=>On List we can Perform the Following Operations\n",
        "\n",
        "1. By using Indexing, we can get One Value\n",
        "2. By using Slicing, we can get range of values\n",
        "3. By using Indexing, we can Update the Value of List\n",
        "4. By using Slicing, we can get Update range of values of List."
      ],
      "metadata": {
        "id": "J5D5AXnqQ88L"
      }
    },
    {
      "cell_type": "markdown",
      "source": [
        "=>Along with the above Operations, we can Perform Various Operations by using Pre-Defined Functions Present in list object.\n",
        "\n",
        "=>The Pre-Defined  Fucntions of list are"
      ],
      "metadata": {
        "id": "HO8zEuBwRG27"
      }
    },
    {
      "cell_type": "markdown",
      "source": [
        "1.append()\n",
        "\n",
        "=>Syntax:   listobject.append(value)\n",
        "\n",
        "=>This Function is used for adding the value to List Object at the end (Knowan as appending)."
      ],
      "metadata": {
        "id": "e9TA-NCURW1o"
      }
    },
    {
      "cell_type": "code",
      "source": [
        "lst=[10,\"RS\",33.33]\n",
        "print(lst,type(lst),id(lst))\n",
        "lst.append(True)\n",
        "print(lst,type(lst),id(lst))\n",
        "lst.append(\"NL\")\n",
        "print(lst,type(lst),id(lst))"
      ],
      "metadata": {
        "colab": {
          "base_uri": "https://localhost:8080/"
        },
        "id": "jiZYqLprRlQq",
        "outputId": "62833f68-a2b5-401d-aa13-3758d8e75ede"
      },
      "execution_count": 3,
      "outputs": [
        {
          "output_type": "stream",
          "name": "stdout",
          "text": [
            "[10, 'RS', 33.33] <class 'list'> 135862866307392\n",
            "[10, 'RS', 33.33, True] <class 'list'> 135862866307392\n",
            "[10, 'RS', 33.33, True, 'NL'] <class 'list'> 135862866307392\n"
          ]
        }
      ]
    },
    {
      "cell_type": "code",
      "source": [
        "lst=list()\n",
        "print(lst,type(lst),id(lst))\n",
        "lst.append(10)\n",
        "print(lst,type(lst),id(lst))\n",
        "lst.append(20.09)\n",
        "print(lst,type(lst),id(lst))\n",
        "lst.append(True)\n",
        "print(lst,type(lst),id(lst))"
      ],
      "metadata": {
        "colab": {
          "base_uri": "https://localhost:8080/"
        },
        "id": "ClqmVKLLWJLu",
        "outputId": "fba57351-2993-4dd3-9596-9c79fe937a80"
      },
      "execution_count": 6,
      "outputs": [
        {
          "output_type": "stream",
          "name": "stdout",
          "text": [
            "[] <class 'list'> 135862866331584\n",
            "[10] <class 'list'> 135862866331584\n",
            "[10, 20.09] <class 'list'> 135862866331584\n",
            "[10, 20.09, True] <class 'list'> 135862866331584\n"
          ]
        }
      ]
    },
    {
      "cell_type": "markdown",
      "source": [
        "\n",
        "2. insert()\n",
        "-------------------------------------------------------------------------------------------------------------------------------------------------------\n",
        "=>Syntax:   listobject.insert(index,Value)\n",
        "=>This Function is used for Adding the Value at the Specified Index"
      ],
      "metadata": {
        "id": "RUqx0JrNW1yi"
      }
    },
    {
      "cell_type": "code",
      "source": [
        "# Examples\n",
        "lst=[10,\"RS\",33.33]\n",
        "print(lst,type(lst),id(lst))\n",
        "lst.insert(1,\"NL\")\n",
        "print(lst,type(lst),id(lst))\n",
        "lst.insert(0,2+3j)\n",
        "print(lst,type(lst),id(lst))\n",
        "lst=[10,\"RS\",33.33]\n",
        "print(lst,type(lst),id(lst))\n",
        "lst.insert(-1,\"NL\")\n",
        "print(lst,type(lst),id(lst))"
      ],
      "metadata": {
        "colab": {
          "base_uri": "https://localhost:8080/"
        },
        "id": "liwye4eif32c",
        "outputId": "643e132b-88ce-4485-fdce-71af4432c3ae"
      },
      "execution_count": 7,
      "outputs": [
        {
          "output_type": "stream",
          "name": "stdout",
          "text": [
            "[10, 'RS', 33.33] <class 'list'> 135862866322304\n",
            "[10, 'NL', 'RS', 33.33] <class 'list'> 135862866322304\n",
            "[(2+3j), 10, 'NL', 'RS', 33.33] <class 'list'> 135862866322304\n",
            "[10, 'RS', 33.33] <class 'list'> 135862866306240\n",
            "[10, 'RS', 'NL', 33.33] <class 'list'> 135862866306240\n"
          ]
        }
      ]
    }
  ]
}